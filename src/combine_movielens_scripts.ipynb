{
 "cells": [
  {
   "cell_type": "code",
   "execution_count": null,
   "metadata": {},
   "outputs": [],
   "source": [
    "'''\n",
    "this script combine the movies both in movielens and having scripts,\n",
    "i) the raw scraping movies from SpringFieldSpringField is found in '../data/springField_scraping/texts/'\n",
    "ii) the raw scraping movies from Imsdb is found in '../data/imsdb_scraping/texts/'\n",
    "iii) the movies with meta-data  from movielens is found in ../movielens/ml-latest/movies.csv'\n",
    "------\n",
    "the progression to combine:\n",
    "1) find the union of movies in raw scraping movies from SpringFieldSpringField and from \n",
    "imsdb(including remove duplicates)\n",
    "2) find the intersection between union of movies(from (1)) and movielend Movies,which ccounts 7500.\n",
    "3) saved the selected movie(7500) scripts to '../data/select_texts/'.\n",
    "4) save the selected movie table to '../data/select_movies.csv'\n",
    "------\n",
    "'''"
   ]
  },
  {
   "cell_type": "code",
   "execution_count": 1,
   "metadata": {},
   "outputs": [],
   "source": [
    "import pandas as pd\n",
    "import numpy as np\n",
    "import os\n",
    "import string\n",
    "from shutil import copyfile\n",
    "from collections import defaultdict"
   ]
  },
  {
   "cell_type": "code",
   "execution_count": 2,
   "metadata": {},
   "outputs": [],
   "source": [
    "springField=os.listdir('../data/springField_scraping/texts/')\n",
    "movie=pd.read_csv('../movielens/ml-latest/movies.csv')\n",
    "imsdb=os.listdir('../data/imsdb_scraping/texts/')\n",
    "#genome=pd.read_csv('../movielens/ml-latest/genome-scores.csv')"
   ]
  },
  {
   "cell_type": "code",
   "execution_count": 153,
   "metadata": {},
   "outputs": [],
   "source": [
    "springField_scripts=[i[:-4].replace(\"'\",\"\") for i in springField]"
   ]
  },
  {
   "cell_type": "code",
   "execution_count": 154,
   "metadata": {},
   "outputs": [],
   "source": [
    "movielens_movie_names=[i[:-7].replace(\"'\",\"\") for i in movie['title'].values.tolist()]"
   ]
  },
  {
   "cell_type": "code",
   "execution_count": 155,
   "metadata": {},
   "outputs": [],
   "source": [
    "imsdb_scripts=[x[:-4].replace(\"'\",\"\") for x in imsdb]"
   ]
  },
  {
   "cell_type": "code",
   "execution_count": 156,
   "metadata": {},
   "outputs": [],
   "source": [
    "movie_scripts=set(springField_scripts).union(set(imsdb_scripts))\n"
   ]
  },
  {
   "cell_type": "code",
   "execution_count": 157,
   "metadata": {},
   "outputs": [
    {
     "name": "stdout",
     "output_type": "stream",
     "text": [
      "selected imsdb cripts numbers is:1118\n"
     ]
    }
   ],
   "source": [
    "select_imsdb_scripts=set(imsdb_scripts).intersection(set(movielens_movie_names))\n",
    "print('selected imsdb cripts numbers is:{}'.format(len(imsdb_scripts)))"
   ]
  },
  {
   "cell_type": "code",
   "execution_count": 158,
   "metadata": {},
   "outputs": [
    {
     "name": "stdout",
     "output_type": "stream",
     "text": [
      "selected springField cripts numbers is:7500\n"
     ]
    }
   ],
   "source": [
    "select_springField_scripts=(set(springField_scripts)-set(imsdb_scripts)).intersection(movielens_movie_names)\n",
    "print('selected springField cripts numbers is:{}'.format(len(select_springField_scripts)))"
   ]
  },
  {
   "cell_type": "code",
   "execution_count": 179,
   "metadata": {},
   "outputs": [],
   "source": [
    "select_movie_name=set(select_springField_scripts).union(set(select_imsdb_scripts))"
   ]
  },
  {
   "cell_type": "code",
   "execution_count": 182,
   "metadata": {},
   "outputs": [],
   "source": [
    "movie['title_without_year']=movie['title'].apply(lambda x :x[:-7])"
   ]
  },
  {
   "cell_type": "code",
   "execution_count": 183,
   "metadata": {},
   "outputs": [],
   "source": [
    "select_movie=movie[movie['title_without_year'].isin(select_movie_name)]"
   ]
  },
  {
   "cell_type": "code",
   "execution_count": 211,
   "metadata": {},
   "outputs": [],
   "source": [
    "select_movie.to_csv('../data/select_movies.csv',index=False)"
   ]
  },
  {
   "cell_type": "code",
   "execution_count": 191,
   "metadata": {},
   "outputs": [],
   "source": [
    "duplicated_movies=select_movie[select_movie.duplicated(subset=['title_without_year'])]"
   ]
  },
  {
   "cell_type": "code",
   "execution_count": 197,
   "metadata": {},
   "outputs": [],
   "source": [
    "for one in select_springField_scripts:\n",
    "    val=one+\".txt\"\n",
    "    try:\n",
    "        copyfile('../data/springField_scraping/texts/'+val,'../data/select_texts/'+val)\n",
    "    except IOError: \n",
    "        pass"
   ]
  },
  {
   "cell_type": "code",
   "execution_count": 206,
   "metadata": {},
   "outputs": [],
   "source": [
    "for one in select_imsdb_scripts:\n",
    "    val=one+\".txt\"\n",
    "    \n",
    "    try:\n",
    "        copyfile('../data/imsdb_scraping/texts/'+val,'../data/select_texts/'+val)\n",
    "    except IOError: \n",
    "        pass"
   ]
  },
  {
   "cell_type": "code",
   "execution_count": 212,
   "metadata": {},
   "outputs": [],
   "source": [
    "select_movie_ids=select_movie['movieId'].tolist()"
   ]
  },
  {
   "cell_type": "code",
   "execution_count": null,
   "metadata": {},
   "outputs": [],
   "source": []
  },
  {
   "cell_type": "code",
   "execution_count": null,
   "metadata": {},
   "outputs": [],
   "source": []
  },
  {
   "cell_type": "code",
   "execution_count": null,
   "metadata": {},
   "outputs": [],
   "source": []
  },
  {
   "cell_type": "code",
   "execution_count": 8,
   "metadata": {},
   "outputs": [],
   "source": []
  },
  {
   "cell_type": "code",
   "execution_count": 11,
   "metadata": {},
   "outputs": [],
   "source": []
  },
  {
   "cell_type": "code",
   "execution_count": 13,
   "metadata": {},
   "outputs": [],
   "source": []
  },
  {
   "cell_type": "code",
   "execution_count": 16,
   "metadata": {},
   "outputs": [],
   "source": []
  },
  {
   "cell_type": "code",
   "execution_count": null,
   "metadata": {},
   "outputs": [],
   "source": []
  }
 ],
 "metadata": {
  "kernelspec": {
   "display_name": "Python 2",
   "language": "python",
   "name": "python2"
  },
  "language_info": {
   "codemirror_mode": {
    "name": "ipython",
    "version": 2
   },
   "file_extension": ".py",
   "mimetype": "text/x-python",
   "name": "python",
   "nbconvert_exporter": "python",
   "pygments_lexer": "ipython2",
   "version": "2.7.15"
  }
 },
 "nbformat": 4,
 "nbformat_minor": 2
}
