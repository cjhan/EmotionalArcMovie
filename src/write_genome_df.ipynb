{
 "cells": [
  {
   "cell_type": "code",
   "execution_count": null,
   "metadata": {},
   "outputs": [],
   "source": [
    "'''\n",
    "this script combine the movies both in movielens and having scripts,\n",
    "i) the sentiment arc of every selected movie is found in '../data/springField_scraping/texts/'\n",
    "ii) the genome is found in '../movielens/ml-latest/genome-scores.csv'\n",
    "iii) select movies table is found in ../movielens/ml-latest/movies.csv'\n",
    "------\n",
    "the progression to combine:\n",
    "1) select genomes of movies in which the sentiment scripts exist and \n",
    "saved as '../movielens/ml-latest/select-genome-scores.csv'.\n",
    "2) used One-hot encoding to transder the genome(codes as words to bits(0 and 1))and\n",
    "then saved to ('../movielens/ml-latest/relevance_df.csv').\n",
    "3) find out the ids of selected movies with genome,and created a dictionaary for movie id to genome index and dumped to\n",
    "('../ids2genome_sim_index.pkl');\n",
    "4) find the selected movies having genome data and emotional arc,counting 3767.\n",
    "5)selected movies having emotional arc and genome data,then saved to  '../data/normed_sentiment_with_genome/'+val)\n",
    "------\n",
    "'''"
   ]
  },
  {
   "cell_type": "code",
   "execution_count": 13,
   "metadata": {},
   "outputs": [],
   "source": [
    "import pandas as pd\n",
    "import numpy as np\n",
    "import os\n",
    "import string\n",
    "from shutil import copyfile\n",
    "from collections import defaultdict\n",
    "import pickle"
   ]
  },
  {
   "cell_type": "code",
   "execution_count": 2,
   "metadata": {},
   "outputs": [],
   "source": [
    "movies_with_sentiment=[i[:-4] for i in os.listdir('../data/normed_sentiment/')]\n",
    "genome=pd.read_csv('../movielens/ml-latest/genome-scores.csv')\n",
    "select_movies=pd.read_csv('../movielens/ml-latest/select-movies.csv')\n"
   ]
  },
  {
   "cell_type": "code",
   "execution_count": 3,
   "metadata": {},
   "outputs": [
    {
     "name": "stdout",
     "output_type": "stream",
     "text": [
      "final selected movie's genome numbers is:4463496\n"
     ]
    }
   ],
   "source": [
    "final_movies=select_movies[select_movies['title_without_year'].isin(movies_with_sentiment)]\n",
    "final_movie_ids=final_movies['movieId'].tolist()\n",
    "final_select_genome=genome[genome['movieId'].isin(final_movie_ids)]\n",
    "print(\"final selected movie's genome numbers is:{}\".format(final_select_genome.shape[0]))"
   ]
  },
  {
   "cell_type": "code",
   "execution_count": 4,
   "metadata": {},
   "outputs": [],
   "source": [
    "final_select_genome.to_csv('../movielens/ml-latest/select-genome-scores.csv',index=False)"
   ]
  },
  {
   "cell_type": "code",
   "execution_count": 5,
   "metadata": {},
   "outputs": [],
   "source": [
    "relevance=defaultdict(list)\n",
    "for i in final_select_genome['movieId'].unique().tolist():\n",
    "    relevance[i]=[0]*1128\n",
    "    one_movie_genome=final_select_genome[final_select_genome['movieId']==i]\n",
    "    for _,row in one_movie_genome.iterrows():\n",
    "        relevance[i][int(row['tagId'])-1]=row['relevance']\n",
    "    \n",
    "relevance_df=pd.DataFrame.from_dict(relevance)\n",
    "relevance_df=relevance_df.T \n",
    "relevance_df.to_csv('../movielens/ml-latest/relevance_df.csv')"
   ]
  },
  {
   "cell_type": "code",
   "execution_count": 8,
   "metadata": {},
   "outputs": [],
   "source": [
    "genome_ids=final_select_genome['movieId'].unique().tolist()"
   ]
  },
  {
   "cell_type": "code",
   "execution_count": 10,
   "metadata": {},
   "outputs": [],
   "source": [
    "ids2genome_sim_index={}\n",
    "for index,ids in enumerate(genome_ids):\n",
    "    ids2genome_sim_index[ids]=index\n",
    "    "
   ]
  },
  {
   "cell_type": "code",
   "execution_count": 14,
   "metadata": {},
   "outputs": [],
   "source": [
    "with open('/Users/yangyangwang/PycharmProjects/movie_project/app/static/mood/ids2genome_sim_index.pkl','wb') as f:\n",
    "        pickle.dump(ids2genome_sim_index, f, pickle.HIGHEST_PROTOCOL)"
   ]
  },
  {
   "cell_type": "code",
   "execution_count": 33,
   "metadata": {},
   "outputs": [],
   "source": [
    "#with open('/Users/yangyangwang/PycharmProjects/movie_project/app/static/mood/title2id.pkl','rb') as f:\n",
    " #   t=pickle.load(f)\n"
   ]
  },
  {
   "cell_type": "code",
   "execution_count": 52,
   "metadata": {},
   "outputs": [
    {
     "data": {
      "text/plain": [
       "(3957, 1128)"
      ]
     },
     "execution_count": 52,
     "metadata": {},
     "output_type": "execute_result"
    }
   ],
   "source": [
    "relevance_df.shape"
   ]
  },
  {
   "cell_type": "code",
   "execution_count": 50,
   "metadata": {},
   "outputs": [],
   "source": [
    "movie_genome_sentiment=final_movies[final_movies['movieId'].isin(genome_ids)].reset_index().drop('index',axis=1)"
   ]
  },
  {
   "cell_type": "code",
   "execution_count": 63,
   "metadata": {},
   "outputs": [],
   "source": [
    "select_movies_with_sentiment=set(movies_with_sentiment).intersection(set(movie_genome_sentiment['title_without_year'].tolist()))"
   ]
  },
  {
   "cell_type": "code",
   "execution_count": 64,
   "metadata": {},
   "outputs": [
    {
     "data": {
      "text/plain": [
       "3767"
      ]
     },
     "execution_count": 64,
     "metadata": {},
     "output_type": "execute_result"
    }
   ],
   "source": [
    "print(\"the number of selected movies with emotional arc  is:{}\".format(len(select_movies_with_sentiment))"
   ]
  },
  {
   "cell_type": "code",
   "execution_count": 67,
   "metadata": {},
   "outputs": [],
   "source": [
    "for one in select_movies_with_sentiment:\n",
    "    val=one+\".txt\"\n",
    "    \n",
    "    try:\n",
    "        copyfile('../data/normed_sentiment/'+val,'../data/normed_sentiment_with_genome/'+val)\n",
    "    except IOError: \n",
    "        pass"
   ]
  },
  {
   "cell_type": "code",
   "execution_count": 71,
   "metadata": {},
   "outputs": [
    {
     "data": {
      "text/plain": [
       "3767"
      ]
     },
     "execution_count": 71,
     "metadata": {},
     "output_type": "execute_result"
    }
   ],
   "source": [
    "len(os.listdir('../data/normed_sentiment_with_genome'))"
   ]
  },
  {
   "cell_type": "code",
   "execution_count": 72,
   "metadata": {},
   "outputs": [],
   "source": []
  },
  {
   "cell_type": "code",
   "execution_count": null,
   "metadata": {},
   "outputs": [],
   "source": []
  }
 ],
 "metadata": {
  "kernelspec": {
   "display_name": "Python 2",
   "language": "python",
   "name": "python2"
  },
  "language_info": {
   "codemirror_mode": {
    "name": "ipython",
    "version": 2
   },
   "file_extension": ".py",
   "mimetype": "text/x-python",
   "name": "python",
   "nbconvert_exporter": "python",
   "pygments_lexer": "ipython2",
   "version": "2.7.15"
  }
 },
 "nbformat": 4,
 "nbformat_minor": 2
}
