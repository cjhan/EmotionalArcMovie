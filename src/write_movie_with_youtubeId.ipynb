{
 "cells": [
  {
   "cell_type": "code",
   "execution_count": null,
   "metadata": {},
   "outputs": [],
   "source": [
    "'''\n",
    "this script combine the selected movies and  youtube id of movies,\n",
    "i) the youtube Id data is found in '../movielens/ml-youtube.csv'\n",
    "ii) selected movies is found in \"../movielens/ml-latest/select-movies.csv\"\n",
    "------\n",
    "the progression to combine:\n",
    "1) merged the selected movies  and youtubeId table  with fill the movies without youtubeId with \"Rftm1Zryrr8\".\n",
    "------\n",
    "'''"
   ]
  },
  {
   "cell_type": "code",
   "execution_count": 3,
   "metadata": {},
   "outputs": [],
   "source": [
    "import pandas as pd\n",
    "import pickle"
   ]
  },
  {
   "cell_type": "code",
   "execution_count": 4,
   "metadata": {},
   "outputs": [],
   "source": [
    "youtube=pd.read_csv('../movielens/ml-youtube.csv')"
   ]
  },
  {
   "cell_type": "code",
   "execution_count": 5,
   "metadata": {},
   "outputs": [],
   "source": [
    "movie=pd.read_csv(\"../movielens/ml-latest/select-movies.csv\")"
   ]
  },
  {
   "cell_type": "code",
   "execution_count": 6,
   "metadata": {},
   "outputs": [],
   "source": [
    "youtube_id=youtube['movieId'].values.tolist()"
   ]
  },
  {
   "cell_type": "code",
   "execution_count": 7,
   "metadata": {},
   "outputs": [],
   "source": [
    "with open('/Users/yangyangwang/PycharmProjects/movie_project/app/static/mood/movie_name2sentiment_sim_index.pkl','rb') as f:\n",
    "     a=pickle.load(f)"
   ]
  },
  {
   "cell_type": "code",
   "execution_count": 8,
   "metadata": {},
   "outputs": [],
   "source": [
    "movie_with_youtube=movie.merge(youtube[['youtubeId','movieId']],on=['movieId'],how='left').fillna('Rftm1Zryrr8')"
   ]
  },
  {
   "cell_type": "code",
   "execution_count": 9,
   "metadata": {},
   "outputs": [],
   "source": [
    "''' write to the sql file.\n",
    "to_sql=[]\n",
    "for _,row in movie_with_youtube.iterrows():\n",
    "    to_sql.append((row['movieId'],row['title'],row['title_without_year'],0,0,row['youtubeId'],'2018-09-21'))\n",
    "with open('../data/movie_with_youtubeId.txt','w') as f:\n",
    "    f.write('\\n'.join('%s %s %s %s %s %s %s' % x for x in to_sql))\n",
    " ''' "
   ]
  },
  {
   "cell_type": "code",
   "execution_count": null,
   "metadata": {},
   "outputs": [],
   "source": []
  }
 ],
 "metadata": {
  "kernelspec": {
   "display_name": "Python 2",
   "language": "python",
   "name": "python2"
  },
  "language_info": {
   "codemirror_mode": {
    "name": "ipython",
    "version": 2
   },
   "file_extension": ".py",
   "mimetype": "text/x-python",
   "name": "python",
   "nbconvert_exporter": "python",
   "pygments_lexer": "ipython2",
   "version": "2.7.15"
  }
 },
 "nbformat": 4,
 "nbformat_minor": 2
}
